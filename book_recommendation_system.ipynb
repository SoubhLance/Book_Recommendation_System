{
 "cells": [
  {
   "cell_type": "markdown",
   "id": "2cfd849b",
   "metadata": {},
   "source": [
    "## Book Recommendation System"
   ]
  },
  {
   "cell_type": "code",
   "execution_count": null,
   "id": "b3de38fa",
   "metadata": {},
   "outputs": [],
   "source": []
  }
 ],
 "metadata": {
  "language_info": {
   "name": "python"
  }
 },
 "nbformat": 4,
 "nbformat_minor": 5
}
